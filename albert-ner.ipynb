{
 "cells": [
  {
   "cell_type": "markdown",
   "metadata": {},
   "source": [
    "## 使用`AlBert`进行命名实体识别\n",
    "***\n",
    "***\n",
    "Time: 2020-09-21\n",
    "Author: dsy\n",
    "***"
   ]
  },
  {
   "cell_type": "markdown",
   "metadata": {},
   "source": [
    "模块库导入"
   ]
  },
  {
   "cell_type": "code",
   "execution_count": 1,
   "metadata": {},
   "outputs": [],
   "source": [
    "import torch\n",
    "import torch.nn as nn\n",
    "import torch.nn.functional as F\n",
    "import torch.utils.data as tud # 自定义数据集 \n",
    "import math\n",
    "import pandas as pd\n",
    "from model.torchcrf import CRF\n",
    "import os\n",
    "from model.albert_pytorch.modeling_albert import AlbertConfig, AlbertForPreTraining,AlbertModel"
   ]
  },
  {
   "cell_type": "markdown",
   "metadata": {},
   "source": [
    "常量定义"
   ]
  },
  {
   "cell_type": "code",
   "execution_count": 2,
   "metadata": {},
   "outputs": [
    {
     "data": {
      "text/plain": [
       "'model/albert_pytorch/prev_trained_model/albert_base_v2/config.json'"
      ]
     },
     "execution_count": 2,
     "metadata": {},
     "output_type": "execute_result"
    }
   ],
   "source": [
    "max_seq_length = 202\n",
    "BATCH_SIZE = 8\n",
    "device = torch.device(\"cuda\" if torch.cuda.is_available() else \"cpu\")\n",
    "device\n",
    "config_file = \"model/albert_pytorch/prev_trained_model/albert_base_v2/config.json\"\n",
    "config_file"
   ]
  },
  {
   "cell_type": "code",
   "execution_count": 3,
   "metadata": {},
   "outputs": [],
   "source": [
    "\n",
    "# config = AlbertConfig.from_pretrained(config_file)\n",
    "# # print(\"Building PyTorch model from configuration: {}\".format(str(config)))\n",
    "# model = AlbertForPreTraining(config)\n",
    "# Load weights from tf checkpoint\n",
    "\n",
    "# Save pytorch-model\n",
    "# print(\"Save PyTorch model to {}\".format(pytorch_dump_path))\n",
    "# torch.save(model.state_dict(), pytorch_dump_path)"
   ]
  },
  {
   "cell_type": "markdown",
   "metadata": {},
   "source": [
    "数据处理"
   ]
  },
  {
   "cell_type": "code",
   "execution_count": 4,
   "metadata": {},
   "outputs": [],
   "source": [
    "# 创建vocab\n",
    "def readVocab(filepath:str=\"data/vocab.txt\"):\n",
    "    vocab = []\n",
    "    with open(filepath,\"r\",encoding=\"utf-8\") as f:\n",
    "        for line in f:\n",
    "            vocab.append(line.strip())\n",
    "            \n",
    "    with open(\"data/train.txt\",\"r\",encoding=\"utf-8\") as fp:\n",
    "        for line in fp:\n",
    "            if '' != line.strip():\n",
    "                vocab.append(line.strip().split(\" \")[0])\n",
    "            \n",
    "    vocab = set(vocab)        \n",
    "    vocab2id = { data:1+i for i,data in enumerate(vocab)}\n",
    "    id2vocab = {1+i:data for i,data in enumerate(vocab)}\n",
    "    return (vocab,vocab2id,id2vocab,len(vocab))"
   ]
  },
  {
   "cell_type": "code",
   "execution_count": 5,
   "metadata": {},
   "outputs": [],
   "source": [
    "def handle(filepath:str=\"data/train.txt\"):\n",
    "    words = []\n",
    "    labels = []\n",
    "    vocab = []\n",
    "    label_list = set()\n",
    "    label_list.add(\"[CLS]\")\n",
    "    label_list.add(\"[SEP]\")\n",
    "    with open(filepath,\"r\",encoding=\"utf-8\") as fp:\n",
    "        word = []\n",
    "        label = []\n",
    "        for index,line in enumerate( fp):\n",
    "            \n",
    "            if '' == line.strip():\n",
    "                words.append(word)\n",
    "                labels.append(label)\n",
    "#                 print(\"words:\\n\",pd.DataFrame(words))\n",
    "#                 print(\"labels:\\n\",pd.DataFrame(labels))\n",
    "                word = []\n",
    "                label = []\n",
    "            else:\n",
    "                linesplit = line.strip().split(\" \")\n",
    "                word.append(linesplit[0])\n",
    "                label.append(linesplit[1])\n",
    "                label_list.add(linesplit[1])\n",
    "                \n",
    "    label2id = {data:i+1 for i,data in enumerate(label_list)}\n",
    "    id2label = {1+i:data for i,data in enumerate(label_list)}\n",
    "    \n",
    "    input_ids = []\n",
    "    for i in words:\n",
    "        input_id = []\n",
    "    #     break\n",
    "        for j in i:\n",
    "            input_id.append(vocab2id[j])\n",
    "    #         break\n",
    "\n",
    "        if len(input_id) > ( max_seq_length - 2):\n",
    "            input_id = input_id[:max_seq_length - 2]\n",
    "        input_id.insert(0,vocab2id[\"[CLS]\"])   \n",
    "        while len(input_id) < (max_seq_length - 1):\n",
    "            input_id.append(0)\n",
    "        input_id.append(vocab2id[\"[SEP]\"])\n",
    "\n",
    "        input_ids.append(input_id)\n",
    "        \n",
    "    label_ids = []\n",
    "    for i in labels:\n",
    "        label_id = []\n",
    "    #     break\n",
    "        for j in i:\n",
    "            label_id.append(label2id[j])\n",
    "    #         break\n",
    "\n",
    "        if len(label_id) > ( max_seq_length - 2):\n",
    "            label_id = label_id[:max_seq_length - 2]\n",
    "        label_id.insert(0,label2id[\"[CLS]\"])   \n",
    "        while len(label_id) < (max_seq_length - 1):\n",
    "            label_id.append(0)\n",
    "        label_id.append(label2id[\"[SEP]\"])\n",
    "\n",
    "        label_ids.append(label_id)\n",
    "\n",
    "    return (words,labels,label_list,label2id,id2label,len(label_list),input_ids,label_ids)"
   ]
  },
  {
   "cell_type": "code",
   "execution_count": 6,
   "metadata": {},
   "outputs": [],
   "source": [
    "(vocab,vocab2id,id2vocab,vocab_size)= readVocab()"
   ]
  },
  {
   "cell_type": "code",
   "execution_count": 7,
   "metadata": {
    "tags": []
   },
   "outputs": [],
   "source": [
    "words,labels,label_list,label2id,id2label,label_size,input_ids,label_ids = handle()"
   ]
  },
  {
   "cell_type": "code",
   "execution_count": 8,
   "metadata": {},
   "outputs": [],
   "source": [
    "input_ids = torch.Tensor(input_ids).long()\n",
    "label_ids = torch.Tensor(label_ids).long()"
   ]
  },
  {
   "cell_type": "markdown",
   "metadata": {},
   "source": [
    "自定义数据集"
   ]
  },
  {
   "cell_type": "code",
   "execution_count": 9,
   "metadata": {},
   "outputs": [],
   "source": [
    "class BertNerDataset(tud.Dataset): \n",
    "    def __init__(self,input_ids,label_ids): \n",
    "        super(BertNerDataset,self).__init__() \n",
    "        self.label_ids = label_ids\n",
    "        self.input_ids = input_ids\n",
    "       \n",
    "    def __len__(self): \n",
    "        return len(self.input_ids) \n",
    "    def __getitem__(self, index): \n",
    "        return (self.input_ids[index,:],self.label_ids[index,:])\n",
    "\n",
    "dataset = BertNerDataset(input_ids[:8000],label_ids[:8000]) \n",
    "dataloader = tud.DataLoader(dataset, batch_size=BATCH_SIZE, shuffle=True,num_workers=0)"
   ]
  },
  {
   "cell_type": "code",
   "execution_count": 10,
   "metadata": {},
   "outputs": [],
   "source": [
    "class AlBertCRFNer(nn.Module):\n",
    "    '''\n",
    "    AlBert + CRF\n",
    "    '''\n",
    "    def __init__(self,vocab_size,config_file,num_tags=768):\n",
    "        \n",
    "        super(AlBertCRFNer,self).__init__()\n",
    "        config = AlbertConfig.from_pretrained(config_file)\n",
    "        self.albert = AlbertModel(config)\n",
    "        self.crf = CRF(num_tags)\n",
    "\n",
    "    def forward(self,x,tags=None):\n",
    "        y,_= self.albert(x) # 8,202,768\n",
    "        if tags is None:\n",
    "            output = y.permute(1,0,2)\n",
    "            return self.crf.decode(output) # 8 202\n",
    "        else:\n",
    "            return -self.crf(y,tags,reduction='mean') # (seq_length, batch_size, num_tags)   (seq_length, batch_size)--> (batch_size,).sum() "
   ]
  },
  {
   "cell_type": "code",
   "execution_count": 11,
   "metadata": {},
   "outputs": [],
   "source": [
    "class AlBertBiLSTMCRFNer(nn.Module):\n",
    "    '''\n",
    "    AlBert + BiLSTM + CRF\n",
    "    '''\n",
    "    def __init__(self,vocab_size,config_file,num_tags=768):\n",
    "        super(AlBertBiLSTMCRFNer,self).__init__()\n",
    "        config = AlbertConfig.from_pretrained(config_file)\n",
    "        self.albert = AlbertModel(config)\n",
    "        self.bilstm = nn.LSTM(input_size = 768,hidden_size =768 //2, bidirectional =True)\n",
    "        self.crf = CRF(num_tags)\n",
    "        \n",
    "    def forward(self,x,tags=None):\n",
    "        y,_=  self.albert(x)\n",
    "        output,_ = self.bilstm(y) # 8 202 768\n",
    "        \n",
    "        if tags is None:\n",
    "            output = output.permute(1,0,2)\n",
    "            return self.crf.decode(output) # 8 202\n",
    "        else:\n",
    "            return -self.crf(output,tags,reduction='mean') # (seq_length, batch_size, num_tags)   (seq_length, batch_size)--> (batch_size,).sum()\n"
   ]
  },
  {
   "cell_type": "code",
   "execution_count": 12,
   "metadata": {},
   "outputs": [],
   "source": [
    "class AlBertBiGRUCRFNer(nn.Module):\n",
    "    '''\n",
    "    AlBert + BiGRU + CRF\n",
    "    '''\n",
    "    def __init__(self,vocab_size,config_file,num_tags=768):\n",
    "        super(AlBertBiGRUCRFNer,self).__init__()\n",
    "        config = AlbertConfig.from_pretrained(config_file)\n",
    "        self.albert = AlbertModel(config)\n",
    "        self.bigru = nn.GRU(input_size=768,hidden_size=768//2,bidirectional=True)\n",
    "        self.crf = CRF(num_tags)\n",
    "\n",
    "    def forward(self,x,tags=None):\n",
    "            \n",
    "        y,_ = self.albert(x)\n",
    "        output,_ = self.bigru(y)  \n",
    "        \n",
    "        if tags is None:\n",
    "            output = output.permute(1,0,2) \n",
    "            return self.crf.decode(output)\n",
    "        else:\n",
    "            return -self.crf(output,tags,reduction='mean')\n"
   ]
  },
  {
   "cell_type": "code",
   "execution_count": 13,
   "metadata": {},
   "outputs": [],
   "source": [
    "# 自注意模型\n",
    "from  torch.nn.parameter import Parameter\n",
    "class SelfAttention(nn.Module):\n",
    "    def __init__(self,embed_dim):\n",
    "        super(SelfAttention,self).__init__()\n",
    "        self.embed_dim = embed_dim\n",
    "        self.selfattention = nn.MultiheadAttention(embed_dim, num_heads=1, dropout=0.0, bias=True, add_bias_kv=False, add_zero_attn=False, kdim=None, vdim=None)\n",
    "        \n",
    "    def forward(self,x):\n",
    "        L,N,E = x.shape\n",
    "        W1 = Parameter(torch.empty((L,N,N)))\n",
    "        W2 = Parameter(torch.empty((L,N,N)))\n",
    "        W3 = Parameter(torch.empty((L,N,N)))\n",
    "        \n",
    "        std = 1./ math.sqrt(self.embed_dim)\n",
    "        \n",
    "        nn.init.uniform_(W1,-std,std)\n",
    "        nn.init.uniform_(W2,-std,std)\n",
    "        nn.init.uniform_(W3,-std,std)\n",
    "        \n",
    "        query = W1.matmul(x) # (L, N, E)\n",
    "        key = W2.matmul(x) # (S,N,E)\n",
    "        value = W3.matmul(x) # (S,N,E)\n",
    "        attn_output,_ = self.selfattention(query, key, value) # (L,N,E)\n",
    "        return attn_output\n",
    "    \n",
    "class AlBertBiGRUSelfAttentionCRFNer(nn.Module):\n",
    "    '''\n",
    "    AlBert + BiGRU + self-attention + CRF\n",
    "    '''\n",
    "    def __init__(self,vocab_size,config_file,embed_dim=768,num_tags=768):\n",
    "        super(AlBertBiGRUSelfAttentionCRFNer,self).__init__()\n",
    "        config = AlbertConfig.from_pretrained(config_file)\n",
    "        self.albert = AlbertModel(config)\n",
    "        self.bigru = nn.GRU(input_size=768,hidden_size=768//2,bidirectional=True)\n",
    "        self.selfattention = SelfAttention(embed_dim)\n",
    "        self.crf = CRF(num_tags)\n",
    "\n",
    "    def forward(self,x,tags=None):\n",
    "        y,_ = self.albert(x)\n",
    "        output,_ = self.bigru(y)\n",
    "        output = self.selfattention(output) # 8 202 768\n",
    "        if tags is None:\n",
    "            output = output.permute(1,0,2) \n",
    "            return self.crf.decode(output)\n",
    "        else:\n",
    "            return -self.crf(output,tags,reduction='mean')\n"
   ]
  },
  {
   "cell_type": "markdown",
   "metadata": {},
   "source": [
    "模型训练"
   ]
  },
  {
   "cell_type": "code",
   "execution_count": 14,
   "metadata": {},
   "outputs": [],
   "source": [
    "EPOCH = 1"
   ]
  },
  {
   "cell_type": "code",
   "execution_count": 15,
   "metadata": {},
   "outputs": [],
   "source": [
    "nameList = [\n",
    "    'AlBert-CRF',\n",
    "    'AlBert-BiLSTM-CRF',\n",
    "    'AlBert-BiGRU-CRF', \n",
    "    'AlBert-BiGRU-selfattentin-CRF'\n",
    "]\n",
    "modelList = [\n",
    "    AlBertCRFNer(vocab_size,config_file) ,\n",
    "    AlBertBiLSTMCRFNer(vocab_size,config_file),\n",
    "    AlBertBiGRUCRFNer(vocab_size,config_file),\n",
    "    AlBertBiGRUSelfAttentionCRFNer(vocab_size,config_file)\n",
    "]"
   ]
  },
  {
   "cell_type": "code",
   "execution_count": 16,
   "metadata": {},
   "outputs": [
    {
     "name": "stdout",
     "output_type": "stream",
     "text": [
      "model name: AlBert-BiGRU-selfattentin-CRF epoch: 0 step: 10 ,loss: 322.327392578125\n",
      "model name: AlBert-BiGRU-selfattentin-CRF epoch: 0 step: 20 ,loss: 153.55325317382812\n",
      "model name: AlBert-BiGRU-selfattentin-CRF epoch: 0 step: 30 ,loss: 143.6673126220703\n",
      "model name: AlBert-BiGRU-selfattentin-CRF epoch: 0 step: 40 ,loss: 184.1155242919922\n",
      "model name: AlBert-BiGRU-selfattentin-CRF epoch: 0 step: 50 ,loss: 47.543182373046875\n",
      "model name: AlBert-BiGRU-selfattentin-CRF epoch: 0 step: 60 ,loss: 89.6065444946289\n",
      "model name: AlBert-BiGRU-selfattentin-CRF epoch: 0 step: 70 ,loss: 55.88486099243164\n",
      "model name: AlBert-BiGRU-selfattentin-CRF epoch: 0 step: 80 ,loss: 127.29888916015625\n",
      "model name: AlBert-BiGRU-selfattentin-CRF epoch: 0 step: 90 ,loss: 48.069766998291016\n",
      "model name: AlBert-BiGRU-selfattentin-CRF epoch: 0 step: 100 ,loss: 54.62019348144531\n",
      "model name: AlBert-BiGRU-selfattentin-CRF epoch: 0 step: 110 ,loss: 25.974763870239258\n",
      "model name: AlBert-BiGRU-selfattentin-CRF epoch: 0 step: 120 ,loss: 52.384769439697266\n",
      "model name: AlBert-BiGRU-selfattentin-CRF epoch: 0 step: 130 ,loss: 49.01329803466797\n",
      "model name: AlBert-BiGRU-selfattentin-CRF epoch: 0 step: 140 ,loss: 38.41375732421875\n",
      "model name: AlBert-BiGRU-selfattentin-CRF epoch: 0 step: 150 ,loss: 16.911209106445312\n",
      "model name: AlBert-BiGRU-selfattentin-CRF epoch: 0 step: 160 ,loss: 37.81596755981445\n",
      "model name: AlBert-BiGRU-selfattentin-CRF epoch: 0 step: 170 ,loss: 20.835796356201172\n",
      "model name: AlBert-BiGRU-selfattentin-CRF epoch: 0 step: 180 ,loss: 122.14261627197266\n",
      "model name: AlBert-BiGRU-selfattentin-CRF epoch: 0 step: 190 ,loss: 80.25978088378906\n",
      "model name: AlBert-BiGRU-selfattentin-CRF epoch: 0 step: 200 ,loss: 129.02999877929688\n",
      "model name: AlBert-BiGRU-selfattentin-CRF epoch: 0 step: 210 ,loss: 266.72100830078125\n",
      "model name: AlBert-BiGRU-selfattentin-CRF epoch: 0 step: 220 ,loss: 142.79949951171875\n",
      "model name: AlBert-BiGRU-selfattentin-CRF epoch: 0 step: 230 ,loss: 151.14508056640625\n",
      "model name: AlBert-BiGRU-selfattentin-CRF epoch: 0 step: 240 ,loss: 190.90428161621094\n",
      "model name: AlBert-BiGRU-selfattentin-CRF epoch: 0 step: 250 ,loss: 79.31289672851562\n",
      "model name: AlBert-BiGRU-selfattentin-CRF epoch: 0 step: 260 ,loss: 224.8209686279297\n",
      "model name: AlBert-BiGRU-selfattentin-CRF epoch: 0 step: 270 ,loss: 44.09097671508789\n",
      "model name: AlBert-BiGRU-selfattentin-CRF epoch: 0 step: 280 ,loss: 44.916481018066406\n",
      "model name: AlBert-BiGRU-selfattentin-CRF epoch: 0 step: 290 ,loss: 37.15615463256836\n",
      "model name: AlBert-BiGRU-selfattentin-CRF epoch: 0 step: 300 ,loss: 40.89051818847656\n",
      "model name: AlBert-BiGRU-selfattentin-CRF epoch: 0 step: 310 ,loss: 40.18318176269531\n",
      "model name: AlBert-BiGRU-selfattentin-CRF epoch: 0 step: 320 ,loss: 56.408470153808594\n",
      "model name: AlBert-BiGRU-selfattentin-CRF epoch: 0 step: 330 ,loss: 40.257083892822266\n",
      "model name: AlBert-BiGRU-selfattentin-CRF epoch: 0 step: 340 ,loss: 65.14924621582031\n",
      "model name: AlBert-BiGRU-selfattentin-CRF epoch: 0 step: 350 ,loss: 34.85757064819336\n",
      "model name: AlBert-BiGRU-selfattentin-CRF epoch: 0 step: 360 ,loss: 623.0376586914062\n",
      "model name: AlBert-BiGRU-selfattentin-CRF epoch: 0 step: 370 ,loss: 149.7784423828125\n",
      "model name: AlBert-BiGRU-selfattentin-CRF epoch: 0 step: 380 ,loss: 67.86505889892578\n",
      "model name: AlBert-BiGRU-selfattentin-CRF epoch: 0 step: 390 ,loss: 86.1010971069336\n",
      "model name: AlBert-BiGRU-selfattentin-CRF epoch: 0 step: 400 ,loss: 70.6642837524414\n",
      "model name: AlBert-BiGRU-selfattentin-CRF epoch: 0 step: 410 ,loss: 47.409576416015625\n",
      "model name: AlBert-BiGRU-selfattentin-CRF epoch: 0 step: 420 ,loss: 142.87728881835938\n",
      "model name: AlBert-BiGRU-selfattentin-CRF epoch: 0 step: 430 ,loss: 201.5116424560547\n",
      "model name: AlBert-BiGRU-selfattentin-CRF epoch: 0 step: 440 ,loss: 485.280517578125\n",
      "model name: AlBert-BiGRU-selfattentin-CRF epoch: 0 step: 450 ,loss: 234.33473205566406\n",
      "model name: AlBert-BiGRU-selfattentin-CRF epoch: 0 step: 460 ,loss: 60.39717483520508\n",
      "model name: AlBert-BiGRU-selfattentin-CRF epoch: 0 step: 470 ,loss: 80.7079849243164\n",
      "model name: AlBert-BiGRU-selfattentin-CRF epoch: 0 step: 480 ,loss: 131.36614990234375\n",
      "model name: AlBert-BiGRU-selfattentin-CRF epoch: 0 step: 490 ,loss: 105.830322265625\n",
      "model name: AlBert-BiGRU-selfattentin-CRF epoch: 0 step: 500 ,loss: 41.567657470703125\n",
      "model name: AlBert-BiGRU-selfattentin-CRF epoch: 0 step: 510 ,loss: 92.10073852539062\n",
      "model name: AlBert-BiGRU-selfattentin-CRF epoch: 0 step: 520 ,loss: 92.39891815185547\n",
      "model name: AlBert-BiGRU-selfattentin-CRF epoch: 0 step: 530 ,loss: 54.729949951171875\n",
      "model name: AlBert-BiGRU-selfattentin-CRF epoch: 0 step: 540 ,loss: 36.63006591796875\n",
      "model name: AlBert-BiGRU-selfattentin-CRF epoch: 0 step: 550 ,loss: 36.068851470947266\n",
      "model name: AlBert-BiGRU-selfattentin-CRF epoch: 0 step: 560 ,loss: 38.456138610839844\n",
      "model name: AlBert-BiGRU-selfattentin-CRF epoch: 0 step: 570 ,loss: 43.504417419433594\n",
      "model name: AlBert-BiGRU-selfattentin-CRF epoch: 0 step: 580 ,loss: 27.12891387939453\n",
      "model name: AlBert-BiGRU-selfattentin-CRF epoch: 0 step: 590 ,loss: 71.07825469970703\n",
      "model name: AlBert-BiGRU-selfattentin-CRF epoch: 0 step: 600 ,loss: 48.422325134277344\n",
      "model name: AlBert-BiGRU-selfattentin-CRF epoch: 0 step: 610 ,loss: 33.012691497802734\n",
      "model name: AlBert-BiGRU-selfattentin-CRF epoch: 0 step: 620 ,loss: 42.701866149902344\n",
      "model name: AlBert-BiGRU-selfattentin-CRF epoch: 0 step: 630 ,loss: 35.01456069946289\n",
      "model name: AlBert-BiGRU-selfattentin-CRF epoch: 0 step: 640 ,loss: 24.125410079956055\n",
      "model name: AlBert-BiGRU-selfattentin-CRF epoch: 0 step: 650 ,loss: 35.420352935791016\n",
      "model name: AlBert-BiGRU-selfattentin-CRF epoch: 0 step: 660 ,loss: 33.089508056640625\n",
      "model name: AlBert-BiGRU-selfattentin-CRF epoch: 0 step: 670 ,loss: 28.988861083984375\n",
      "model name: AlBert-BiGRU-selfattentin-CRF epoch: 0 step: 680 ,loss: 24.16930389404297\n",
      "model name: AlBert-BiGRU-selfattentin-CRF epoch: 0 step: 690 ,loss: 26.0576171875\n",
      "model name: AlBert-BiGRU-selfattentin-CRF epoch: 0 step: 700 ,loss: 428.6357421875\n",
      "model name: AlBert-BiGRU-selfattentin-CRF epoch: 0 step: 710 ,loss: 80.32485961914062\n",
      "model name: AlBert-BiGRU-selfattentin-CRF epoch: 0 step: 720 ,loss: 162.41375732421875\n",
      "model name: AlBert-BiGRU-selfattentin-CRF epoch: 0 step: 730 ,loss: 80.3473892211914\n",
      "model name: AlBert-BiGRU-selfattentin-CRF epoch: 0 step: 740 ,loss: 92.57279968261719\n",
      "model name: AlBert-BiGRU-selfattentin-CRF epoch: 0 step: 750 ,loss: 241.16552734375\n",
      "model name: AlBert-BiGRU-selfattentin-CRF epoch: 0 step: 760 ,loss: 74.46089172363281\n",
      "model name: AlBert-BiGRU-selfattentin-CRF epoch: 0 step: 770 ,loss: 243.0636444091797\n",
      "model name: AlBert-BiGRU-selfattentin-CRF epoch: 0 step: 780 ,loss: 263.1063232421875\n",
      "model name: AlBert-BiGRU-selfattentin-CRF epoch: 0 step: 790 ,loss: 107.52426147460938\n",
      "model name: AlBert-BiGRU-selfattentin-CRF epoch: 0 step: 800 ,loss: 81.11173248291016\n",
      "model name: AlBert-BiGRU-selfattentin-CRF epoch: 0 step: 810 ,loss: 98.00537872314453\n",
      "model name: AlBert-BiGRU-selfattentin-CRF epoch: 0 step: 820 ,loss: 89.70481872558594\n",
      "model name: AlBert-BiGRU-selfattentin-CRF epoch: 0 step: 830 ,loss: 50.43724060058594\n",
      "model name: AlBert-BiGRU-selfattentin-CRF epoch: 0 step: 840 ,loss: 77.15370178222656\n",
      "model name: AlBert-BiGRU-selfattentin-CRF epoch: 0 step: 850 ,loss: 64.5411148071289\n",
      "model name: AlBert-BiGRU-selfattentin-CRF epoch: 0 step: 860 ,loss: 70.92444610595703\n",
      "model name: AlBert-BiGRU-selfattentin-CRF epoch: 0 step: 870 ,loss: 123.06221008300781\n",
      "model name: AlBert-BiGRU-selfattentin-CRF epoch: 0 step: 880 ,loss: 163.3374786376953\n",
      "model name: AlBert-BiGRU-selfattentin-CRF epoch: 0 step: 890 ,loss: 134.75616455078125\n",
      "model name: AlBert-BiGRU-selfattentin-CRF epoch: 0 step: 900 ,loss: 124.38761901855469\n",
      "model name: AlBert-BiGRU-selfattentin-CRF epoch: 0 step: 910 ,loss: 60.61082458496094\n",
      "model name: AlBert-BiGRU-selfattentin-CRF epoch: 0 step: 920 ,loss: 58.225135803222656\n",
      "model name: AlBert-BiGRU-selfattentin-CRF epoch: 0 step: 930 ,loss: 37.992881774902344\n",
      "model name: AlBert-BiGRU-selfattentin-CRF epoch: 0 step: 940 ,loss: 49.6811637878418\n",
      "model name: AlBert-BiGRU-selfattentin-CRF epoch: 0 step: 950 ,loss: 69.5884017944336\n",
      "model name: AlBert-BiGRU-selfattentin-CRF epoch: 0 step: 960 ,loss: 57.629920959472656\n",
      "model name: AlBert-BiGRU-selfattentin-CRF epoch: 0 step: 970 ,loss: 31.60541534423828\n",
      "model name: AlBert-BiGRU-selfattentin-CRF epoch: 0 step: 980 ,loss: 100.40605926513672\n",
      "model name: AlBert-BiGRU-selfattentin-CRF epoch: 0 step: 990 ,loss: 387.7207336425781\n",
      "model name: AlBert-BiGRU-selfattentin-CRF epoch: 0 step: 1000 ,loss: 57.401241302490234\n"
     ]
    }
   ],
   "source": [
    "for index,model in enumerate(modelList):\n",
    "    if index != 3:\n",
    "        continue\n",
    "    optimizer = torch.optim.Adam(model.parameters(), lr=0.05)   # optimize all parameters\n",
    "    lossDataFrame = pd.DataFrame()\n",
    "# loss_func = nn.CrossEntropyLoss()   # the target label is not one-hotted\n",
    "    for epoch in range(EPOCH):\n",
    "        for step,(input_ids,label_ids) in enumerate(dataloader):\n",
    "            #x,tags=None,segment_ids=None\n",
    "    #         y_pred = bertcrfner(input_ids,label_ids,torch.zeros(input_ids.size()).long())\n",
    "    #         print(\"y_pred\",y_pred.shape)\n",
    "    #         print(\"label_ids\",label_ids.shape)\n",
    "    #         loss = loss_func(y_pred,label_ids)\n",
    "\n",
    "            loss = model(input_ids,label_ids)\n",
    "            if 0 == (step+1) % 10 :\n",
    "                lossDataFrame.loc[(epoch + 1) * ((step + 1)//10),nameList[index]] = loss.item()\n",
    "                print(\"model name:\",nameList[index],\"epoch:\",epoch,\"step:\",step+1,\",loss:\",loss.item())\n",
    "\n",
    "            optimizer.zero_grad()           # clear gradients for this training step\n",
    "            loss.backward()                 # backpropagation, compute gradients\n",
    "            optimizer.step()                # apply gradient\n",
    "#             break\n",
    "#     break\n",
    "    torch.save(model.state_dict(), nameList[index]+\".pt\")\n",
    "\n",
    "    lossDataFrame.to_csv(nameList[index]+\"_loss_of_ner.csv\",index=False)"
   ]
  }
 ],
 "metadata": {
  "kernelspec": {
   "display_name": "Python 3",
   "language": "python",
   "name": "python3"
  },
  "language_info": {
   "codemirror_mode": {
    "name": "ipython",
    "version": 3
   },
   "file_extension": ".py",
   "mimetype": "text/x-python",
   "name": "python",
   "nbconvert_exporter": "python",
   "pygments_lexer": "ipython3",
   "version": "3.7.2"
  }
 },
 "nbformat": 4,
 "nbformat_minor": 4
}
