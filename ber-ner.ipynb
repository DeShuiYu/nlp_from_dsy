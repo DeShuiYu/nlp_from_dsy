{
 "cells": [
  {
   "cell_type": "markdown",
   "metadata": {},
   "source": [
    "## 使用`Bert`进行命名实体识别\n",
    "***\n",
    "***\n",
    "Time: 2020-09-19\n",
    "Author: dsy\n",
    "***"
   ]
  },
  {
   "cell_type": "markdown",
   "metadata": {},
   "source": [
    "模块库导入"
   ]
  },
  {
   "cell_type": "code",
   "execution_count": 1,
   "metadata": {},
   "outputs": [],
   "source": [
    "import torch\n",
    "import torch.nn as nn\n",
    "import torch.nn.functional as F\n",
    "import torch.utils.data as tud # 自定义数据集 \n",
    "import math\n",
    "from collections import Counter\n",
    "import pandas as pd\n",
    "from model.bert import BERT\n",
    "from model.torchcrf import CRF"
   ]
  },
  {
   "cell_type": "markdown",
   "metadata": {},
   "source": [
    "常量定义"
   ]
  },
  {
   "cell_type": "code",
   "execution_count": 2,
   "metadata": {},
   "outputs": [
    {
     "data": {
      "text/plain": [
       "device(type='cpu')"
      ]
     },
     "execution_count": 2,
     "metadata": {},
     "output_type": "execute_result"
    }
   ],
   "source": [
    "max_seq_length = 202\n",
    "BATCH_SIZE = 8\n",
    "device = torch.device(\"cuda\" if torch.cuda.is_available() else \"cpu\")\n",
    "device"
   ]
  },
  {
   "cell_type": "markdown",
   "metadata": {},
   "source": [
    "数据处理"
   ]
  },
  {
   "cell_type": "code",
   "execution_count": 3,
   "metadata": {},
   "outputs": [],
   "source": [
    "# 创建vocab\n",
    "def readVocab(filepath:str=\"data/vocab.txt\"):\n",
    "    vocab = []\n",
    "    with open(filepath,\"r\",encoding=\"utf-8\") as f:\n",
    "        for line in f:\n",
    "            vocab.append(line.strip())\n",
    "            \n",
    "    with open(\"data/train.txt\",\"r\",encoding=\"utf-8\") as fp:\n",
    "        for line in fp:\n",
    "            if '' != line.strip():\n",
    "                vocab.append(line.strip().split(\" \")[0])\n",
    "            \n",
    "    vocab = set(vocab)        \n",
    "    vocab2id = { data:1+i for i,data in enumerate(vocab)}\n",
    "    id2vocab = {1+i:data for i,data in enumerate(vocab)}\n",
    "    return (vocab,vocab2id,id2vocab,len(vocab))"
   ]
  },
  {
   "cell_type": "code",
   "execution_count": 4,
   "metadata": {},
   "outputs": [],
   "source": [
    "def handle(filepath:str=\"data/train.txt\"):\n",
    "    words = []\n",
    "    labels = []\n",
    "    vocab = []\n",
    "    label_list = set()\n",
    "    label_list.add(\"[CLS]\")\n",
    "    label_list.add(\"[SEP]\")\n",
    "    with open(filepath,\"r\",encoding=\"utf-8\") as fp:\n",
    "        word = []\n",
    "        label = []\n",
    "        for index,line in enumerate( fp):\n",
    "            \n",
    "            if '' == line.strip():\n",
    "                words.append(word)\n",
    "                labels.append(label)\n",
    "#                 print(\"words:\\n\",pd.DataFrame(words))\n",
    "#                 print(\"labels:\\n\",pd.DataFrame(labels))\n",
    "                word = []\n",
    "                label = []\n",
    "            else:\n",
    "                linesplit = line.strip().split(\" \")\n",
    "                word.append(linesplit[0])\n",
    "                label.append(linesplit[1])\n",
    "                label_list.add(linesplit[1])\n",
    "                \n",
    "    label2id = {data:i+1 for i,data in enumerate(label_list)}\n",
    "    id2label = {1+i:data for i,data in enumerate(label_list)}\n",
    "    \n",
    "    input_ids = []\n",
    "    for i in words:\n",
    "        input_id = []\n",
    "    #     break\n",
    "        for j in i:\n",
    "            input_id.append(vocab2id[j])\n",
    "    #         break\n",
    "\n",
    "        if len(input_id) > ( max_seq_length - 2):\n",
    "            input_id = input_id[:max_seq_length - 2]\n",
    "        input_id.insert(0,vocab2id[\"[CLS]\"])   \n",
    "        while len(input_id) < (max_seq_length - 1):\n",
    "            input_id.append(0)\n",
    "        input_id.append(vocab2id[\"[SEP]\"])\n",
    "\n",
    "        input_ids.append(input_id)\n",
    "        \n",
    "    label_ids = []\n",
    "    for i in labels:\n",
    "        label_id = []\n",
    "    #     break\n",
    "        for j in i:\n",
    "            label_id.append(label2id[j])\n",
    "    #         break\n",
    "\n",
    "        if len(label_id) > ( max_seq_length - 2):\n",
    "            label_id = label_id[:max_seq_length - 2]\n",
    "        label_id.insert(0,label2id[\"[CLS]\"])   \n",
    "        while len(label_id) < (max_seq_length - 1):\n",
    "            label_id.append(0)\n",
    "        label_id.append(label2id[\"[SEP]\"])\n",
    "\n",
    "        label_ids.append(label_id)\n",
    "\n",
    "    return (words,labels,label_list,label2id,id2label,len(label_list),input_ids,label_ids)"
   ]
  },
  {
   "cell_type": "code",
   "execution_count": 5,
   "metadata": {},
   "outputs": [],
   "source": [
    "(vocab,vocab2id,id2vocab,vocab_size)= readVocab()"
   ]
  },
  {
   "cell_type": "code",
   "execution_count": 6,
   "metadata": {
    "tags": []
   },
   "outputs": [],
   "source": [
    "words,labels,label_list,label2id,id2label,label_size,input_ids,label_ids = handle()"
   ]
  },
  {
   "cell_type": "code",
   "execution_count": 7,
   "metadata": {},
   "outputs": [],
   "source": [
    "input_ids = torch.Tensor(input_ids).long()\n",
    "label_ids = torch.Tensor(label_ids).long()"
   ]
  },
  {
   "cell_type": "markdown",
   "metadata": {},
   "source": [
    "自定义数据集"
   ]
  },
  {
   "cell_type": "code",
   "execution_count": 8,
   "metadata": {},
   "outputs": [],
   "source": [
    "class BertNerDataset(tud.Dataset): \n",
    "    def __init__(self,input_ids,label_ids): \n",
    "        super(BertNerDataset,self).__init__() \n",
    "        self.label_ids = label_ids\n",
    "        self.input_ids = input_ids\n",
    "       \n",
    "    def __len__(self): \n",
    "        return len(self.input_ids) \n",
    "    def __getitem__(self, index): \n",
    "        return (self.input_ids[index,:],self.label_ids[index,:])\n",
    "\n",
    "dataset = BertNerDataset(input_ids,label_ids) \n",
    "dataloader = tud.DataLoader(dataset, batch_size=BATCH_SIZE, shuffle=True)"
   ]
  },
  {
   "cell_type": "code",
   "execution_count": 9,
   "metadata": {},
   "outputs": [],
   "source": [
    "class BertCRFNer(nn.Module):\n",
    "    '''\n",
    "    Bert + CRF\n",
    "    '''\n",
    "    def __init__(self,vocab_size,num_tags=768):\n",
    "        \n",
    "        super(BertCRFNer,self).__init__()\n",
    "        self.bert = BERT( vocab_size, hidden=768, n_layers=12, attn_heads=12, dropout=0.1)\n",
    "        self.crf = CRF(num_tags)\n",
    "        \n",
    "    def forward(self,x,tags=None,segment_ids=None):\n",
    "        if segment_ids is None:\n",
    "            segment_ids = torch.zeros(x).long()\n",
    "        y = self.bert(x,segment_ids) # 8,202,768\n",
    "        \n",
    "        if tags is None:\n",
    "            output = y.permute(1,0,2)\n",
    "            return self.crf.decode(output) # 8 202\n",
    "        else:\n",
    "            return -self.crf(y,tags,reduction='mean') # (seq_length, batch_size, num_tags)   (seq_length, batch_size)--> (batch_size,).sum() "
   ]
  },
  {
   "cell_type": "code",
   "execution_count": 10,
   "metadata": {},
   "outputs": [],
   "source": [
    "class BertBiLSTMCRFNer(nn.Module):\n",
    "    '''\n",
    "    Bert + BiLSTM + CRF\n",
    "    '''\n",
    "    def __init__(self,vocab_size,num_tags=768):\n",
    "        super(BertBiLSTMCRFNer,self).__init__()\n",
    "        self.bert = BERT( vocab_size, hidden=768, n_layers=12, attn_heads=12, dropout=0.1)\n",
    "        self.bilstm = nn.LSTM(input_size = 768,hidden_size =768 //2, bidirectional =True)\n",
    "        self.crf = CRF(num_tags)\n",
    "        \n",
    "    def forward(self,x,tags=None,segment_ids=None):\n",
    "        if segment_ids is None:\n",
    "            segment_ids = torch.zeros(x).long()\n",
    "        y =  self.bert(x,segment_ids)\n",
    "\n",
    "        output,_ = self.bilstm(y) # 8 202 768\n",
    "        \n",
    "        if tags is None:\n",
    "            output = output.permute(1,0,2)\n",
    "            return self.crf.decode(output) # 8 202\n",
    "        else:\n",
    "            return -self.crf(output,tags,reduction='mean') # (seq_length, batch_size, num_tags)   (seq_length, batch_size)--> (batch_size,).sum()\n",
    "        "
   ]
  },
  {
   "cell_type": "code",
   "execution_count": 11,
   "metadata": {},
   "outputs": [],
   "source": [
    "class BertBiGRUCRFNer(nn.Module):\n",
    "    '''\n",
    "    Bert + BiGRU + CRF\n",
    "    '''\n",
    "    def __init__(self,vocab_size,num_tags=768):\n",
    "        super(BertBiGRUCRFNer,self).__init__()\n",
    "        self.bert = BERT( vocab_size, hidden=768, n_layers=12, attn_heads=12, dropout=0.1)\n",
    "        self.bigru = nn.GRU(input_size=768,hidden_size=768//2,bidirectional=True)\n",
    "        self.crf = CRF(num_tags)\n",
    "\n",
    "    def forward(self,x,tags=None,segment_ids=None):\n",
    "        if segment_ids is None:\n",
    "            segment_ids = torch.zeros(x).long()\n",
    "            \n",
    "        y = self.bert(x,segment_ids)\n",
    "        output,_ = self.bigru(y)  \n",
    "        \n",
    "        if tags is None:\n",
    "            output = output.permute(1,0,2) \n",
    "            return self.crf.decode(output)\n",
    "        else:\n",
    "            return -self.crf(output,tags,reduction='mean')\n"
   ]
  },
  {
   "cell_type": "code",
   "execution_count": 12,
   "metadata": {},
   "outputs": [],
   "source": [
    "# 自注意模型\n",
    "from  torch.nn.parameter import Parameter\n",
    "class SelfAttention(nn.Module):\n",
    "    def __init__(self,embed_dim):\n",
    "        super(SelfAttention,self).__init__()\n",
    "        self.embed_dim = embed_dim\n",
    "        self.selfattention = nn.MultiheadAttention(embed_dim, num_heads=1, dropout=0.0, bias=True, add_bias_kv=False, add_zero_attn=False, kdim=None, vdim=None)\n",
    "        \n",
    "    def forward(self,x):\n",
    "        L,N,E = x.shape\n",
    "        W1 = Parameter(torch.empty((L,N,N)))\n",
    "        W2 = Parameter(torch.empty((L,N,N)))\n",
    "        W3 = Parameter(torch.empty((L,N,N)))\n",
    "        \n",
    "        std = 1./ math.sqrt(self.embed_dim)\n",
    "        \n",
    "        nn.init.uniform_(W1,-std,std)\n",
    "        nn.init.uniform_(W2,-std,std)\n",
    "        nn.init.uniform_(W3,-std,std)\n",
    "        \n",
    "        query = W1.matmul(x) # (L, N, E)\n",
    "        key = W2.matmul(x) # (S,N,E)\n",
    "        value = W3.matmul(x) # (S,N,E)\n",
    "        attn_output,_ = self.selfattention(query, key, value) # (L,N,E)\n",
    "        return attn_output\n",
    "    \n",
    "class BertBiGRUSelfAttentionCRFNer(nn.Module):\n",
    "    '''\n",
    "    Bert + BiGRU + self-attention + CRF\n",
    "    '''\n",
    "    def __init__(self,vocab_size,embed_dim=768,num_tags=768):\n",
    "        super(BertBiGRUSelfAttentionCRFNer,self).__init__()\n",
    "        self.bert = BERT( vocab_size, hidden=768, n_layers=12, attn_heads=12, dropout=0.1)\n",
    "        self.bigru = nn.GRU(input_size=768,hidden_size=768//2,bidirectional=True)\n",
    "        self.selfattention = SelfAttention(embed_dim)\n",
    "        self.crf = CRF(num_tags)\n",
    "\n",
    "    def forward(self,x,tags=None,segment_ids=None):\n",
    "        if segment_ids is None:\n",
    "            segment_ids = torch.zeros(x).long()\n",
    "        y = self.bert(x,segment_ids)\n",
    "        output,_ = self.bigru(y)\n",
    "        output = self.selfattention(output) # 8 202 768\n",
    "        if tag is None:\n",
    "            output = output.permute(1,0,2) \n",
    "            return self.crf.decode(output)\n",
    "        else:\n",
    "            return -self.crf(output,tags,reduction='mean')\n"
   ]
  },
  {
   "cell_type": "markdown",
   "metadata": {},
   "source": [
    "模型训练"
   ]
  },
  {
   "cell_type": "code",
   "execution_count": 13,
   "metadata": {},
   "outputs": [],
   "source": [
    "EPOCH = 1"
   ]
  },
  {
   "cell_type": "code",
   "execution_count": 14,
   "metadata": {},
   "outputs": [],
   "source": [
    "lossDataFrame = pd.DataFrame(columns=['Bert-CRF', 'Bert-BiLSTM-CRF', 'Bert-BiGRU-CRF', 'Bert-BiGRU-selfattentin-CRF'])"
   ]
  },
  {
   "cell_type": "code",
   "execution_count": 15,
   "metadata": {},
   "outputs": [],
   "source": [
    "modelList = [BertCRFNer(vocab_size),BertBiLSTMCRFNer(vocab_size),BertBiGRUCRFNer(vocab_size),BertBiGRUSelfAttentionCRFNer(vocab_size)]\n",
    "nameList = ['Bert-CRF', 'Bert-BiLSTM-CRF', 'Bert-BiGRU-CRF', 'Bert-BiGRU-selfattentin-CRF']"
   ]
  },
  {
   "cell_type": "code",
   "execution_count": null,
   "metadata": {},
   "outputs": [],
   "source": [
    "for index,model in enumerate(modelList):\n",
    "    optimizer = torch.optim.Adam(model.parameters(), lr=0.05)   # optimize all parameters\n",
    "# loss_func = nn.CrossEntropyLoss()   # the target label is not one-hotted\n",
    "    for epoch in range(EPOCH):\n",
    "        for step,(input_ids,label_ids) in enumerate(dataloader):\n",
    "            #x,tags=None,segment_ids=None\n",
    "    #         y_pred = bertcrfner(input_ids,label_ids,torch.zeros(input_ids.size()).long())\n",
    "    #         print(\"y_pred\",y_pred.shape)\n",
    "    #         print(\"label_ids\",label_ids.shape)\n",
    "    #         loss = loss_func(y_pred,label_ids)\n",
    "\n",
    "            loss = model(input_ids,label_ids,torch.zeros(input_ids.size()).long())\n",
    "            if 0 == (step+1) % 10 :\n",
    "                lossDataFrame.loc[(epoch + 1) * ((step + 1)//10),nameList[index]] = loss.item()\n",
    "                print(\"model name:\",nameList[index],\"epoch:\",epoch,\"step:\",step+1,\",loss:\",loss.item())\n",
    "\n",
    "            optimizer.zero_grad()           # clear gradients for this training step\n",
    "            loss.backward()                 # backpropagation, compute gradients\n",
    "            optimizer.step()                # apply gradient\n"
   ]
  },
  {
   "cell_type": "code",
   "execution_count": null,
   "metadata": {},
   "outputs": [],
   "source": [
    "lossDataFrame.to_csv(\"each_mode_loss_of_ner.csv\",index=False)"
   ]
  }
 ],
 "metadata": {
  "kernelspec": {
   "display_name": "Python 3",
   "language": "python",
   "name": "python3"
  },
  "language_info": {
   "codemirror_mode": {
    "name": "ipython",
    "version": 3
   },
   "file_extension": ".py",
   "mimetype": "text/x-python",
   "name": "python",
   "nbconvert_exporter": "python",
   "pygments_lexer": "ipython3",
   "version": "3.7.2"
  }
 },
 "nbformat": 4,
 "nbformat_minor": 4
}
