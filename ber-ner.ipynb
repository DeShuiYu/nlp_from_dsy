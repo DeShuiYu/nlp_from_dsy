{
 "cells": [
  {
   "cell_type": "markdown",
   "metadata": {},
   "source": [
    "## 使用`Bert`进行命名实体识别\n",
    "***\n",
    "***\n",
    "Time: 2020-09-19\n",
    "Author: dsy\n",
    "***"
   ]
  },
  {
   "cell_type": "markdown",
   "metadata": {},
   "source": [
    "模块库导入"
   ]
  },
  {
   "cell_type": "code",
   "execution_count": 1,
   "metadata": {},
   "outputs": [],
   "source": [
    "import torch\n",
    "import torch.nn as nn\n",
    "import torch.nn.functional as F\n",
    "import torch.utils.data as tud # 自定义数据集 \n",
    "import math\n",
    "from collections import Counter\n",
    "import pandas as pd\n",
    "from model.bert import BERT"
   ]
  },
  {
   "cell_type": "markdown",
   "metadata": {},
   "source": [
    "常量定义"
   ]
  },
  {
   "cell_type": "code",
   "execution_count": 2,
   "metadata": {},
   "outputs": [
    {
     "data": {
      "text/plain": [
       "device(type='cpu')"
      ]
     },
     "execution_count": 2,
     "metadata": {},
     "output_type": "execute_result"
    }
   ],
   "source": [
    "max_seq_length = 202\n",
    "BATCH_SIZE = 8\n",
    "device = torch.device(\"cuda\" if torch.cuda.is_available() else \"cpu\")\n",
    "device"
   ]
  },
  {
   "cell_type": "markdown",
   "metadata": {},
   "source": [
    "数据处理"
   ]
  },
  {
   "cell_type": "code",
   "execution_count": 3,
   "metadata": {},
   "outputs": [],
   "source": [
    "# 创建vocab\n",
    "def readVocab(filepath:str=\"data/vocab.txt\"):\n",
    "    vocab = []\n",
    "    with open(filepath,\"r\",encoding=\"utf-8\") as f:\n",
    "        for line in f:\n",
    "            vocab.append(line.strip())\n",
    "            \n",
    "    with open(\"data/train.txt\",\"r\",encoding=\"utf-8\") as fp:\n",
    "        for line in fp:\n",
    "            if '' != line.strip():\n",
    "                vocab.append(line.strip().split(\" \")[0])\n",
    "            \n",
    "    vocab = set(vocab)        \n",
    "    vocab2id = { data:1+i for i,data in enumerate(vocab)}\n",
    "    id2vocab = {1+i:data for i,data in enumerate(vocab)}\n",
    "    return (vocab,vocab2id,id2vocab,len(vocab))"
   ]
  },
  {
   "cell_type": "code",
   "execution_count": 4,
   "metadata": {},
   "outputs": [],
   "source": [
    "def handle(filepath:str=\"data/train.txt\"):\n",
    "    words = []\n",
    "    labels = []\n",
    "    vocab = []\n",
    "    label_list = set()\n",
    "    label_list.add(\"[CLS]\")\n",
    "    label_list.add(\"[SEP]\")\n",
    "    with open(filepath,\"r\",encoding=\"utf-8\") as fp:\n",
    "        word = []\n",
    "        label = []\n",
    "        for index,line in enumerate( fp):\n",
    "            \n",
    "            if '' == line.strip():\n",
    "                words.append(word)\n",
    "                labels.append(label)\n",
    "#                 print(\"words:\\n\",pd.DataFrame(words))\n",
    "#                 print(\"labels:\\n\",pd.DataFrame(labels))\n",
    "                word = []\n",
    "                label = []\n",
    "            else:\n",
    "                linesplit = line.strip().split(\" \")\n",
    "                word.append(linesplit[0])\n",
    "                label.append(linesplit[1])\n",
    "                label_list.add(linesplit[1])\n",
    "                \n",
    "    label2id = {data:i+1 for i,data in enumerate(label_list)}\n",
    "    id2label = {1+i:data for i,data in enumerate(label_list)}\n",
    "    \n",
    "    input_ids = []\n",
    "    for i in words:\n",
    "        input_id = []\n",
    "    #     break\n",
    "        for j in i:\n",
    "            input_id.append(vocab2id[j])\n",
    "    #         break\n",
    "\n",
    "        if len(input_id) > ( max_seq_length - 2):\n",
    "            input_id = input_id[:max_seq_length - 2]\n",
    "        input_id.insert(0,vocab2id[\"[CLS]\"])   \n",
    "        while len(input_id) < (max_seq_length - 1):\n",
    "            input_id.append(0)\n",
    "        input_id.append(vocab2id[\"[SEP]\"])\n",
    "\n",
    "        input_ids.append(input_id)\n",
    "        \n",
    "    label_ids = []\n",
    "    for i in labels:\n",
    "        label_id = []\n",
    "    #     break\n",
    "        for j in i:\n",
    "            label_id.append(label2id[j])\n",
    "    #         break\n",
    "\n",
    "        if len(label_id) > ( max_seq_length - 2):\n",
    "            label_id = label_id[:max_seq_length - 2]\n",
    "        label_id.insert(0,label2id[\"[CLS]\"])   \n",
    "        while len(label_id) < (max_seq_length - 1):\n",
    "            label_id.append(0)\n",
    "        label_id.append(label2id[\"[SEP]\"])\n",
    "\n",
    "        label_ids.append(label_id)\n",
    "\n",
    "    return (words,labels,label_list,label2id,id2label,len(label_list),input_ids,label_ids)"
   ]
  },
  {
   "cell_type": "code",
   "execution_count": 5,
   "metadata": {},
   "outputs": [],
   "source": [
    "(vocab,vocab2id,id2vocab,vocab_size)= readVocab()"
   ]
  },
  {
   "cell_type": "code",
   "execution_count": 6,
   "metadata": {
    "tags": []
   },
   "outputs": [],
   "source": [
    "words,labels,label_list,label2id,id2label,label_size,input_ids,label_ids = handle()"
   ]
  },
  {
   "cell_type": "code",
   "execution_count": 7,
   "metadata": {},
   "outputs": [],
   "source": [
    "input_ids = torch.Tensor(input_ids).long()\n",
    "label_ids = torch.Tensor(label_ids).long()"
   ]
  },
  {
   "cell_type": "markdown",
   "metadata": {},
   "source": [
    "自定义数据集"
   ]
  },
  {
   "cell_type": "code",
   "execution_count": 8,
   "metadata": {},
   "outputs": [],
   "source": [
    "class BertNerDataset(tud.Dataset): \n",
    "    def __init__(self,input_ids,label_ids): \n",
    "        super(BertNerDataset,self).__init__() \n",
    "        self.label_ids = label_ids\n",
    "        self.input_ids = input_ids\n",
    "       \n",
    "    def __len__(self): \n",
    "        return len(self.input_ids) \n",
    "    def __getitem__(self, index): \n",
    "        return (self.input_ids[index,:],self.label_ids[index,:])\n",
    "\n",
    "dataset = BertNerDataset(input_ids,label_ids) \n",
    "dataloader = tud.DataLoader(dataset, batch_size=BATCH_SIZE, shuffle=True)"
   ]
  },
  {
   "cell_type": "code",
   "execution_count": 9,
   "metadata": {},
   "outputs": [],
   "source": [
    "class BertNer(nn.Module):\n",
    "    def __init__(self,vocab_size):\n",
    "        \n",
    "        super(BertNer,self).__init__()\n",
    "        self.bert = BERT( vocab_size, hidden=768, n_layers=12, attn_heads=12, dropout=0.1)\n",
    "        \n",
    "    def forward(self,x,segment_ids):\n",
    "        y = self.bert(x,segment_ids) # 8,202,768\n",
    "        y = y.permute(0,2,1) \n",
    "        return y\n",
    "    \n",
    "\n",
    "class BertBiLSTMNer(nn.Module):\n",
    "    def __init__(self,vocab_size):\n",
    "        super(BertBiLSTMNer,self).__init__()\n",
    "        self.bert = BERT( vocab_size, hidden=768, n_layers=12, attn_heads=12, dropout=0.1)\n",
    "        self.bilstm = nn.LSTM(input_size = 768,hidden_size =768 //2, bidirectional =True)\n",
    "        \n",
    "    def forward(self,x,segment_ids):\n",
    "        y =  self.bert(x,segment_ids)\n",
    "        output,_ = self.bilstm(y)\n",
    "        output = output.permute(0,2,1) \n",
    "        return output\n",
    "    \n",
    "class BertBiGRUNer(nn.Module):\n",
    "    def __init__(self,vocab_size):\n",
    "        super(BertBiGRUNer,self).__init__()\n",
    "        self.bert = BERT( vocab_size, hidden=768, n_layers=12, attn_heads=12, dropout=0.1)\n",
    "        self.bigru = nn.GRU(input_size=768,hidden_size=768//2,bidirectional=True)\n",
    "\n",
    "    def forward(self,x,segment_ids):\n",
    "        y = self.bert(x,segment_ids)\n",
    "        output,_ = self.bigru(y)        \n",
    "        output = output.permute(0,2,1) \n",
    "        return output\n",
    "        \n",
    " "
   ]
  },
  {
   "cell_type": "code",
   "execution_count": 10,
   "metadata": {},
   "outputs": [],
   "source": [
    "# 自注意模型\n",
    "from  torch.nn.parameter import Parameter\n",
    "class SelfAttention(nn.Module):\n",
    "    def __init__(self,embed_dim):\n",
    "        super(SelfAttention,self).__init__()\n",
    "        self.embed_dim = embed_dim\n",
    "        self.selfattention = nn.MultiheadAttention(embed_dim, num_heads=1, dropout=0.0, bias=True, add_bias_kv=False, add_zero_attn=False, kdim=None, vdim=None)\n",
    "        \n",
    "    def forward(self,x):\n",
    "        L,N,E = x.shape\n",
    "        W1 = Parameter(torch.empty((L,N,N)))\n",
    "        W2 = Parameter(torch.empty((L,N,N)))\n",
    "        W3 = Parameter(torch.empty((L,N,N)))\n",
    "        \n",
    "        std = 1./ math.sqrt(self.embed_dim)\n",
    "        \n",
    "        nn.init.uniform_(W1,-std,std)\n",
    "        nn.init.uniform_(W2,-std,std)\n",
    "        nn.init.uniform_(W3,-std,std)\n",
    "        \n",
    "        query = W1.matmul(x) # (L, N, E)\n",
    "        key = W2.matmul(x) # (S,N,E)\n",
    "        value = W3.matmul(x) # (S,N,E)\n",
    "        attn_output,_ = self.selfattention(query, key, value) # (L,N,E)\n",
    "        return attn_output\n",
    "    \n",
    "class BertBiGRUSelfAttentionNer(nn.Module):\n",
    "    def __init__(self,vocab_size,embed_dim=768):\n",
    "        super(BertBiGRUSelfAttentionNer,self).__init__()\n",
    "        self.bert = BERT( vocab_size, hidden=768, n_layers=12, attn_heads=12, dropout=0.1)\n",
    "        self.bigru = nn.GRU(input_size=768,hidden_size=768//2,bidirectional=True)\n",
    "        self.selfattention = SelfAttention(embed_dim)\n",
    "\n",
    "    def forward(self,x,segment_ids):\n",
    "        y = self.bert(x,segment_ids)\n",
    "        output,_ = self.bigru(y)\n",
    "        output = self.selfattention(output)\n",
    "        output = output.permute(0,2,1) \n",
    "        return output        "
   ]
  },
  {
   "cell_type": "markdown",
   "metadata": {},
   "source": [
    "模型训练"
   ]
  },
  {
   "cell_type": "code",
   "execution_count": 11,
   "metadata": {},
   "outputs": [],
   "source": [
    "# bertner = BertBiLSTMNer( vocab_size)\n",
    "# bertner = BertNer( vocab_size)\n",
    "# bertner = BertBiGRUNer(vocab_size)\n",
    "bertner = BertBiGRUSelfAttentionNer(vocab_size,embed_dim=768)\n",
    "optimizer = torch.optim.Adam(bertner.parameters(), lr=0.05)   # optimize all parameters\n",
    "loss_func = nn.CrossEntropyLoss()   # the target label is not one-hotted"
   ]
  },
  {
   "cell_type": "code",
   "execution_count": 12,
   "metadata": {},
   "outputs": [],
   "source": [
    "EPOCH = 1"
   ]
  },
  {
   "cell_type": "code",
   "execution_count": null,
   "metadata": {},
   "outputs": [
    {
     "name": "stdout",
     "output_type": "stream",
     "text": [
      "epoch 0 step: 10 ,loss: 70.48233795166016\n",
      "epoch 0 step: 20 ,loss: 64.64908599853516\n",
      "epoch 0 step: 30 ,loss: 37.792694091796875\n",
      "epoch 0 step: 40 ,loss: 22.66753387451172\n",
      "epoch 0 step: 50 ,loss: 18.804529190063477\n",
      "epoch 0 step: 60 ,loss: 31.839941024780273\n",
      "epoch 0 step: 70 ,loss: 19.860679626464844\n",
      "epoch 0 step: 80 ,loss: 16.839797973632812\n",
      "epoch 0 step: 90 ,loss: 11.174281120300293\n",
      "epoch 0 step: 100 ,loss: 5.3015546798706055\n",
      "epoch 0 step: 110 ,loss: 17.39335823059082\n",
      "epoch 0 step: 120 ,loss: 9.268795013427734\n",
      "epoch 0 step: 130 ,loss: 13.026122093200684\n",
      "epoch 0 step: 140 ,loss: 13.76448917388916\n",
      "epoch 0 step: 150 ,loss: 15.671184539794922\n",
      "epoch 0 step: 160 ,loss: 20.138240814208984\n",
      "epoch 0 step: 170 ,loss: 213.03688049316406\n"
     ]
    }
   ],
   "source": [
    "for epoch in range(EPOCH):\n",
    "    for step,(input_ids,label_ids) in enumerate(dataloader):\n",
    "        y_pred = bertner(input_ids,torch.zeros(input_ids.size()).long())\n",
    "#         print(\"y_pred\",y_pred.shape)\n",
    "#         print(\"label_ids\",label_ids.shape)\n",
    "        loss = loss_func(y_pred,label_ids)\n",
    "        if 0 == (step+1) % 10 :\n",
    "            print(\"epoch\",epoch,\"step:\",step+1,\",loss:\",loss.item())\n",
    "        \n",
    "        optimizer.zero_grad()           # clear gradients for this training step\n",
    "        loss.backward()                 # backpropagation, compute gradients\n",
    "        optimizer.step()                # apply gradient\n"
   ]
  }
 ],
 "metadata": {
  "kernelspec": {
   "display_name": "Python 3",
   "language": "python",
   "name": "python3"
  },
  "language_info": {
   "codemirror_mode": {
    "name": "ipython",
    "version": 3
   },
   "file_extension": ".py",
   "mimetype": "text/x-python",
   "name": "python",
   "nbconvert_exporter": "python",
   "pygments_lexer": "ipython3",
   "version": "3.7.2"
  }
 },
 "nbformat": 4,
 "nbformat_minor": 4
}
