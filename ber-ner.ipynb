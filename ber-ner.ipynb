{
 "cells": [
  {
   "cell_type": "markdown",
   "metadata": {},
   "source": [
    "## 使用`Bert`进行命名实体识别\n",
    "***\n",
    "***\n",
    "Time: 2020-09-19\n",
    "Author: dsy\n",
    "***"
   ]
  },
  {
   "cell_type": "markdown",
   "metadata": {},
   "source": [
    "模块库导入"
   ]
  },
  {
   "cell_type": "code",
   "execution_count": 1,
   "metadata": {},
   "outputs": [],
   "source": [
    "import torch\n",
    "import torch.nn as nn\n",
    "import torch.nn.functional as F\n",
    "import torch.utils.data as tud # 自定义数据集 \n",
    "import math\n",
    "from collections import Counter\n",
    "import pandas as pd\n",
    "from model.bert import BERT"
   ]
  },
  {
   "cell_type": "markdown",
   "metadata": {},
   "source": [
    "常量定义"
   ]
  },
  {
   "cell_type": "code",
   "execution_count": 2,
   "metadata": {},
   "outputs": [],
   "source": [
    "max_seq_length = 202\n",
    "BATCH_SIZE = 8"
   ]
  },
  {
   "cell_type": "markdown",
   "metadata": {},
   "source": [
    "数据处理"
   ]
  },
  {
   "cell_type": "code",
   "execution_count": 3,
   "metadata": {},
   "outputs": [],
   "source": [
    "# 创建vocab\n",
    "def readVocab(filepath:str=\"data/vocab.txt\"):\n",
    "    vocab = []\n",
    "    with open(filepath,\"r\",encoding=\"utf-8\") as f:\n",
    "        for line in f:\n",
    "            vocab.append(line.strip())\n",
    "            \n",
    "    with open(\"data/train.txt\",\"r\",encoding=\"utf-8\") as fp:\n",
    "        for line in fp:\n",
    "            if '' != line.strip():\n",
    "                vocab.append(line.strip().split(\" \")[0])\n",
    "            \n",
    "    vocab = set(vocab)        \n",
    "    vocab2id = { data:1+i for i,data in enumerate(vocab)}\n",
    "    id2vocab = {1+i:data for i,data in enumerate(vocab)}\n",
    "    return (vocab,vocab2id,id2vocab,len(vocab))"
   ]
  },
  {
   "cell_type": "code",
   "execution_count": 4,
   "metadata": {},
   "outputs": [],
   "source": [
    "def handle(filepath:str=\"data/train.txt\"):\n",
    "    words = []\n",
    "    labels = []\n",
    "    vocab = []\n",
    "    label_list = set()\n",
    "    label_list.add(\"[CLS]\")\n",
    "    label_list.add(\"[SEP]\")\n",
    "    with open(filepath,\"r\",encoding=\"utf-8\") as fp:\n",
    "        word = []\n",
    "        label = []\n",
    "        for index,line in enumerate( fp):\n",
    "            \n",
    "            if '' == line.strip():\n",
    "                words.append(word)\n",
    "                labels.append(label)\n",
    "#                 print(\"words:\\n\",pd.DataFrame(words))\n",
    "#                 print(\"labels:\\n\",pd.DataFrame(labels))\n",
    "                word = []\n",
    "                label = []\n",
    "            else:\n",
    "                linesplit = line.strip().split(\" \")\n",
    "                word.append(linesplit[0])\n",
    "                label.append(linesplit[1])\n",
    "                label_list.add(linesplit[1])\n",
    "                \n",
    "    label2id = {data:i+1 for i,data in enumerate(label_list)}\n",
    "    id2label = {1+i:data for i,data in enumerate(label_list)}\n",
    "    \n",
    "    input_ids = []\n",
    "    for i in words:\n",
    "        input_id = []\n",
    "    #     break\n",
    "        for j in i:\n",
    "            input_id.append(vocab2id[j])\n",
    "    #         break\n",
    "\n",
    "        if len(input_id) > ( max_seq_length - 2):\n",
    "            input_id = input_id[:max_seq_length - 2]\n",
    "        input_id.insert(0,vocab2id[\"[CLS]\"])   \n",
    "        while len(input_id) < (max_seq_length - 1):\n",
    "            input_id.append(0)\n",
    "        input_id.append(vocab2id[\"[SEP]\"])\n",
    "\n",
    "        input_ids.append(input_id)\n",
    "        \n",
    "    label_ids = []\n",
    "    for i in labels:\n",
    "        label_id = []\n",
    "    #     break\n",
    "        for j in i:\n",
    "            label_id.append(label2id[j])\n",
    "    #         break\n",
    "\n",
    "        if len(label_id) > ( max_seq_length - 2):\n",
    "            label_id = label_id[:max_seq_length - 2]\n",
    "        label_id.insert(0,label2id[\"[CLS]\"])   \n",
    "        while len(label_id) < (max_seq_length - 1):\n",
    "            label_id.append(0)\n",
    "        label_id.append(label2id[\"[SEP]\"])\n",
    "\n",
    "        label_ids.append(label_id)\n",
    "\n",
    "    return (words,labels,label_list,label2id,id2label,len(label_list),input_ids,label_ids)"
   ]
  },
  {
   "cell_type": "code",
   "execution_count": 5,
   "metadata": {},
   "outputs": [],
   "source": [
    "(vocab,vocab2id,id2vocab,vocab_size)= readVocab()"
   ]
  },
  {
   "cell_type": "code",
   "execution_count": 6,
   "metadata": {
    "tags": []
   },
   "outputs": [],
   "source": [
    "words,labels,label_list,label2id,id2label,label_size,input_ids,label_ids = handle()"
   ]
  },
  {
   "cell_type": "code",
   "execution_count": 7,
   "metadata": {},
   "outputs": [],
   "source": [
    "input_ids = torch.Tensor(input_ids).long()\n",
    "label_ids = torch.Tensor(label_ids).long()"
   ]
  },
  {
   "cell_type": "markdown",
   "metadata": {},
   "source": [
    "自定义数据集"
   ]
  },
  {
   "cell_type": "code",
   "execution_count": 8,
   "metadata": {},
   "outputs": [],
   "source": [
    "class BertNerDataset(tud.Dataset): \n",
    "    def __init__(self,input_ids,label_ids): \n",
    "        super(BertNerDataset,self).__init__() \n",
    "        self.label_ids = label_ids\n",
    "        self.input_ids = input_ids\n",
    "       \n",
    "    def __len__(self): \n",
    "        return len(self.input_ids) \n",
    "    def __getitem__(self, index): \n",
    "        return (self.input_ids[index,:],self.label_ids[index,:])\n",
    "\n",
    "dataset = BertNerDataset(input_ids,label_ids) \n",
    "dataloader = tud.DataLoader(dataset, batch_size=BATCH_SIZE, shuffle=True)"
   ]
  },
  {
   "cell_type": "code",
   "execution_count": 9,
   "metadata": {},
   "outputs": [],
   "source": [
    "class BertNer(nn.Module):\n",
    "    def __init__(self,vocab_size):\n",
    "        \n",
    "        super(BertNer,self).__init__()\n",
    "        self.bert = BERT( vocab_size, hidden=768, n_layers=12, attn_heads=12, dropout=0.1)\n",
    "        \n",
    "    def forward(self,x,segment_ids):\n",
    "        y = self.bert(x,segment_ids) # 8,202,768\n",
    "        y = y.permute(0,2,1) \n",
    "        return y\n",
    "    \n",
    "\n",
    "class BertBiLSTMNer(nn.Module):\n",
    "    def __init__(self,vocab_size):\n",
    "        super(BertBiLSTMNer,self).__init__()\n",
    "        self.bert = BERT( vocab_size, hidden=768, n_layers=12, attn_heads=12, dropout=0.1)\n",
    "        self.bilstm = nn.LSTM(input_size = 768,hidden_size =768 //2, bidirectional =True)\n",
    "        \n",
    "    def forward(self,x,segment_ids):\n",
    "        y =  self.bert(x,segment_ids)\n",
    "        output,_ = self.bilstm(y)\n",
    "        output = output.permute(0,2,1) \n",
    "        return output\n",
    " "
   ]
  },
  {
   "cell_type": "markdown",
   "metadata": {},
   "source": [
    "模型训练"
   ]
  },
  {
   "cell_type": "code",
   "execution_count": 10,
   "metadata": {},
   "outputs": [],
   "source": [
    "bertner = BertBiLSTMNer( vocab_size)\n",
    "# bertner = BertNer( vocab_size)\n",
    "optimizer = torch.optim.Adam(bertner.parameters(), lr=0.05)   # optimize all parameters\n",
    "loss_func = nn.CrossEntropyLoss()   # the target label is not one-hotted"
   ]
  },
  {
   "cell_type": "code",
   "execution_count": 11,
   "metadata": {},
   "outputs": [],
   "source": [
    "EPOCH = 1"
   ]
  },
  {
   "cell_type": "code",
   "execution_count": null,
   "metadata": {},
   "outputs": [],
   "source": [
    "for epoch in range(EPOCH):\n",
    "    for step,(input_ids,label_ids) in enumerate(dataloader):\n",
    "        y_pred = bertner(input_ids,torch.zeros(input_ids.size()).long())\n",
    "#         print(\"y_pred\",y_pred.shape)\n",
    "#         print(\"label_ids\",label_ids.shape)\n",
    "        loss = loss_func(y_pred,label_ids)\n",
    "        if 0 == (step+1) % 10 :\n",
    "            print(\"epoch\",epoch,\"step:\",step+1,\",loss:\",loss.item())\n",
    "        \n",
    "        optimizer.zero_grad()           # clear gradients for this training step\n",
    "        loss.backward()                 # backpropagation, compute gradients\n",
    "        optimizer.step()                # apply gradient\n"
   ]
  }
 ],
 "metadata": {
  "kernelspec": {
   "display_name": "Python 3",
   "language": "python",
   "name": "python3"
  },
  "language_info": {
   "codemirror_mode": {
    "name": "ipython",
    "version": 3
   },
   "file_extension": ".py",
   "mimetype": "text/x-python",
   "name": "python",
   "nbconvert_exporter": "python",
   "pygments_lexer": "ipython3",
   "version": "3.7.2"
  }
 },
 "nbformat": 4,
 "nbformat_minor": 4
}
